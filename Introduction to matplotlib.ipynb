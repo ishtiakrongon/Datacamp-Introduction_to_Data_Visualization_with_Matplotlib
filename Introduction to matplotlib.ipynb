{
 "cells": [
  {
   "cell_type": "markdown",
   "metadata": {},
   "source": [
    "# Introduction to Matplotlib"
   ]
  },
  {
   "cell_type": "markdown",
   "metadata": {},
   "source": [
    "---"
   ]
  },
  {
   "cell_type": "markdown",
   "metadata": {},
   "source": [
    "## Using the matplotlib.pyplot Interface"
   ]
  },
  {
   "cell_type": "markdown",
   "metadata": {},
   "source": [
    "**Importing Libraries**"
   ]
  },
  {
   "cell_type": "code",
   "execution_count": 2,
   "metadata": {},
   "outputs": [],
   "source": [
    "import pandas as pd\n",
    "import matplotlib.pyplot as plt\n",
    "import numpy as np"
   ]
  },
  {
   "cell_type": "markdown",
   "metadata": {},
   "source": [
    "#### Creating a blank plot"
   ]
  },
  {
   "cell_type": "code",
   "execution_count": 3,
   "metadata": {},
   "outputs": [
    {
     "data": {
      "image/png": "[encoded data removed]",
      "text/plain": [
       "<Figure size 432x288 with 1 Axes>"
      ]
     },
     "metadata": {
      "needs_background": "light"
     },
     "output_type": "display_data"
    }
   ],
   "source": [
    "# Create a Figure and an Axes with plt.subplots\n",
    "fig, ax = plt.subplots()\n",
    "plt.show()"
   ]
  },
  {
   "cell_type": "markdown",
   "metadata": {},
   "source": [
    "---"
   ]
  },
  {
   "cell_type": "markdown",
   "metadata": {},
   "source": [
    "## Adding Data to an axes object"
   ]
  },
  {
   "cell_type": "code",
   "execution_count": 4,
   "metadata": {},
   "outputs": [],
   "source": [
    "# Loading Datasets\n",
    "seattle_weather = pd.read_csv(\"D:/git_repositories/Datacamp-Introduction_to_Data_Visualization_with_Matplotlib/Datasets/seattle_weather.csv\")\n",
    "austin_weather = pd.read_csv(\"D:/git_repositories/Datacamp-Introduction_to_Data_Visualization_with_Matplotlib/Datasets/austin_weather.csv\")"
   ]
  },
  {
   "cell_type": "markdown",
   "metadata": {},
   "source": [
    "**Datasets**"
   ]
  },
  {
   "cell_type": "code",
   "execution_count": 5,
   "metadata": {},
   "outputs": [],
   "source": [
    "sw = seattle_weather.loc[:,[\"STATION\", \"NAME\", \"DATE\", \"MLY-PRCP-NORMAL\"]]"
   ]
  },
  {
   "cell_type": "code",
   "execution_count": 6,
   "metadata": {},
   "outputs": [],
   "source": [
    "aw = austin_weather.loc[:, [\"STATION\", \"NAME\", \"DATE\", \"MLY-PRCP-NORMAL\"]]"
   ]
  },
  {
   "cell_type": "code",
   "execution_count": 10,
   "metadata": {},
   "outputs": [],
   "source": [
    "month = []\n",
    "x = range(1,13)\n",
    "m = [\"Jan\", \"Feb\", \"Mar\", \"Apr\", \"May\", \"Jun\", \"Jul\", \"Aug\", \"Sep\", \"Oct\", \"Nov\", \"Dec\"]\n",
    "for x in sw[\"DATE\"]:\n",
    "    if x == 1:\n",
    "        month.append(m[0])\n",
    "    elif x == 2:\n",
    "        month.append(m[1])\n",
    "    elif x == 3:\n",
    "        month.append(m[2])\n",
    "    elif x == 4:\n",
    "        month.append(m[3])\n",
    "    elif x == 5:\n",
    "        month.append(m[4])\n",
    "    elif x == 6:\n",
    "        month.append(m[5])\n",
    "    elif x == 7:\n",
    "        month.append(m[6])\n",
    "    elif x == 8:\n",
    "        month.append(m[7])\n",
    "    elif x == 9:\n",
    "        month.append(m[8])\n",
    "    elif x == 10:\n",
    "        month.append(m[9])\n",
    "    elif x == 11:\n",
    "        month.append(m[10])\n",
    "    elif x == 12:\n",
    "        month.append(m[11])"
   ]
  },
  {
   "cell_type": "code",
   "execution_count": 12,
   "metadata": {},
   "outputs": [],
   "source": [
    "month = []\n",
    "x = range(1,13)\n",
    "m = [\"Jan\", \"Feb\", \"Mar\", \"Apr\", \"May\", \"Jun\", \"Jul\", \"Aug\", \"Sep\", \"Oct\", \"Nov\", \"Dec\"]\n",
    "for x in aw[\"DATE\"]:\n",
    "    if x == 1:\n",
    "        month.append(m[0])\n",
    "    elif x == 2:\n",
    "        month.append(m[1])\n",
    "    elif x == 3:\n",
    "        month.append(m[2])\n",
    "    elif x == 4:\n",
    "        month.append(m[3])\n",
    "    elif x == 5:\n",
    "        month.append(m[4])\n",
    "    elif x == 6:\n",
    "        month.append(m[5])\n",
    "    elif x == 7:\n",
    "        month.append(m[6])\n",
    "    elif x == 8:\n",
    "        month.append(m[7])\n",
    "    elif x == 9:\n",
    "        month.append(m[8])\n",
    "    elif x == 10:\n",
    "        month.append(m[9])\n",
    "    elif x == 11:\n",
    "        month.append(m[10])\n",
    "    elif x == 12:\n",
    "        month.append(m[11])"
   ]
  },
  {
   "cell_type": "code",
   "execution_count": 11,
   "metadata": {},
   "outputs": [],
   "source": [
    "sw[\"MONTH\"] = month"
   ]
  },
  {
   "cell_type": "code",
   "execution_count": 13,
   "metadata": {},
   "outputs": [],
   "source": [
    "aw[\"MONTH\"] = month"
   ]
  },
  {
   "cell_type": "code",
   "execution_count": 14,
   "metadata": {},
   "outputs": [
    {
     "data": {
      "text/html": [
       "<div>\n",
       "<style scoped>\n",
       "    .dataframe tbody tr th:only-of-type {\n",
       "        vertical-align: middle;\n",
       "    }\n",
       "\n",
       "    .dataframe tbody tr th {\n",
       "        vertical-align: top;\n",
       "    }\n",
       "\n",
       "    .dataframe thead th {\n",
       "        text-align: right;\n",
       "    }\n",
       "</style>\n",
       "<table border=\"1\" class=\"dataframe\">\n",
       "  <thead>\n",
       "    <tr style=\"text-align: right;\">\n",
       "      <th></th>\n",
       "      <th>STATION</th>\n",
       "      <th>NAME</th>\n",
       "      <th>DATE</th>\n",
       "      <th>MLY-PRCP-NORMAL</th>\n",
       "      <th>MONTH</th>\n",
       "    </tr>\n",
       "  </thead>\n",
       "  <tbody>\n",
       "    <tr>\n",
       "      <th>0</th>\n",
       "      <td>USC00456295</td>\n",
       "      <td>PALMER 3 ESE, WA US</td>\n",
       "      <td>1</td>\n",
       "      <td>11.03</td>\n",
       "      <td>Jan</td>\n",
       "    </tr>\n",
       "    <tr>\n",
       "      <th>1</th>\n",
       "      <td>USC00456295</td>\n",
       "      <td>PALMER 3 ESE, WA US</td>\n",
       "      <td>2</td>\n",
       "      <td>7.74</td>\n",
       "      <td>Feb</td>\n",
       "    </tr>\n",
       "    <tr>\n",
       "      <th>2</th>\n",
       "      <td>USC00456295</td>\n",
       "      <td>PALMER 3 ESE, WA US</td>\n",
       "      <td>3</td>\n",
       "      <td>9.08</td>\n",
       "      <td>Mar</td>\n",
       "    </tr>\n",
       "    <tr>\n",
       "      <th>3</th>\n",
       "      <td>USC00456295</td>\n",
       "      <td>PALMER 3 ESE, WA US</td>\n",
       "      <td>4</td>\n",
       "      <td>7.37</td>\n",
       "      <td>Apr</td>\n",
       "    </tr>\n",
       "    <tr>\n",
       "      <th>4</th>\n",
       "      <td>USC00456295</td>\n",
       "      <td>PALMER 3 ESE, WA US</td>\n",
       "      <td>5</td>\n",
       "      <td>6.39</td>\n",
       "      <td>May</td>\n",
       "    </tr>\n",
       "  </tbody>\n",
       "</table>\n",
       "</div>"
      ],
      "text/plain": [
       "       STATION                 NAME  DATE  MLY-PRCP-NORMAL MONTH\n",
       "0  USC00456295  PALMER 3 ESE, WA US     1            11.03   Jan\n",
       "1  USC00456295  PALMER 3 ESE, WA US     2             7.74   Feb\n",
       "2  USC00456295  PALMER 3 ESE, WA US     3             9.08   Mar\n",
       "3  USC00456295  PALMER 3 ESE, WA US     4             7.37   Apr\n",
       "4  USC00456295  PALMER 3 ESE, WA US     5             6.39   May"
      ]
     },
     "execution_count": 14,
     "metadata": {},
     "output_type": "execute_result"
    }
   ],
   "source": [
    "sw.head()"
   ]
  },
  {
   "cell_type": "code",
   "execution_count": 15,
   "metadata": {},
   "outputs": [
    {
     "data": {
      "text/html": [
       "<div>\n",
       "<style scoped>\n",
       "    .dataframe tbody tr th:only-of-type {\n",
       "        vertical-align: middle;\n",
       "    }\n",
       "\n",
       "    .dataframe tbody tr th {\n",
       "        vertical-align: top;\n",
       "    }\n",
       "\n",
       "    .dataframe thead th {\n",
       "        text-align: right;\n",
       "    }\n",
       "</style>\n",
       "<table border=\"1\" class=\"dataframe\">\n",
       "  <thead>\n",
       "    <tr style=\"text-align: right;\">\n",
       "      <th></th>\n",
       "      <th>STATION</th>\n",
       "      <th>NAME</th>\n",
       "      <th>DATE</th>\n",
       "      <th>MLY-PRCP-NORMAL</th>\n",
       "      <th>MONTH</th>\n",
       "    </tr>\n",
       "  </thead>\n",
       "  <tbody>\n",
       "    <tr>\n",
       "      <th>0</th>\n",
       "      <td>USW00013904</td>\n",
       "      <td>AUSTIN BERGSTROM INTERNATIONAL AIRPORT, TX US</td>\n",
       "      <td>1</td>\n",
       "      <td>2.20</td>\n",
       "      <td>Jan</td>\n",
       "    </tr>\n",
       "    <tr>\n",
       "      <th>1</th>\n",
       "      <td>USW00013904</td>\n",
       "      <td>AUSTIN BERGSTROM INTERNATIONAL AIRPORT, TX US</td>\n",
       "      <td>2</td>\n",
       "      <td>2.31</td>\n",
       "      <td>Feb</td>\n",
       "    </tr>\n",
       "    <tr>\n",
       "      <th>2</th>\n",
       "      <td>USW00013904</td>\n",
       "      <td>AUSTIN BERGSTROM INTERNATIONAL AIRPORT, TX US</td>\n",
       "      <td>3</td>\n",
       "      <td>2.78</td>\n",
       "      <td>Mar</td>\n",
       "    </tr>\n",
       "    <tr>\n",
       "      <th>3</th>\n",
       "      <td>USW00013904</td>\n",
       "      <td>AUSTIN BERGSTROM INTERNATIONAL AIRPORT, TX US</td>\n",
       "      <td>4</td>\n",
       "      <td>2.27</td>\n",
       "      <td>Apr</td>\n",
       "    </tr>\n",
       "    <tr>\n",
       "      <th>4</th>\n",
       "      <td>USW00013904</td>\n",
       "      <td>AUSTIN BERGSTROM INTERNATIONAL AIRPORT, TX US</td>\n",
       "      <td>5</td>\n",
       "      <td>4.05</td>\n",
       "      <td>May</td>\n",
       "    </tr>\n",
       "  </tbody>\n",
       "</table>\n",
       "</div>"
      ],
      "text/plain": [
       "       STATION                                           NAME  DATE  \\\n",
       "0  USW00013904  AUSTIN BERGSTROM INTERNATIONAL AIRPORT, TX US     1   \n",
       "1  USW00013904  AUSTIN BERGSTROM INTERNATIONAL AIRPORT, TX US     2   \n",
       "2  USW00013904  AUSTIN BERGSTROM INTERNATIONAL AIRPORT, TX US     3   \n",
       "3  USW00013904  AUSTIN BERGSTROM INTERNATIONAL AIRPORT, TX US     4   \n",
       "4  USW00013904  AUSTIN BERGSTROM INTERNATIONAL AIRPORT, TX US     5   \n",
       "\n",
       "   MLY-PRCP-NORMAL MONTH  \n",
       "0             2.20   Jan  \n",
       "1             2.31   Feb  \n",
       "2             2.78   Mar  \n",
       "3             2.27   Apr  \n",
       "4             4.05   May  "
      ]
     },
     "execution_count": 15,
     "metadata": {},
     "output_type": "execute_result"
    }
   ],
   "source": [
    "aw.head()"
   ]
  },
  {
   "cell_type": "code",
   "execution_count": 39,
   "metadata": {},
   "outputs": [
    {
     "data": {
      "text/plain": [
       "<AxesSubplot:xlabel='MONTH'>"
      ]
     },
     "execution_count": 39,
     "metadata": {},
     "output_type": "execute_result"
    },
    {
     "data": {
      "image/png": "[encoded data removed]",
      "text/plain": [
       "<Figure size 432x288 with 1 Axes>"
      ]
     },
     "metadata": {
      "needs_background": "light"
     },
     "output_type": "display_data"
    }
   ],
   "source": [
    "seattle = sw.loc[:, [\"MONTH\", \"MLY-PRCP-NORMAL\"]].groupby(sw[\"MONTH\"], as_index= True).agg({'MLY-PRCP-NORMAL':'sum'}).sort_values(\"MONTH\", ascending= False)\n",
    "seattle.plot(\n",
    "    kind = 'line'\n",
    ")"
   ]
  },
  {
   "cell_type": "code",
   "execution_count": 18,
   "metadata": {},
   "outputs": [],
   "source": [
    "# Plotting MLY-PRCP-NORMAL from seattle_weather against the MONTH\n",
    "\n",
    "ax.plot(sw[\"MONTH\"], sw[\"MLY-PRCP-NORMAL\"], marker = 'o', linestyle = '--')\n",
    "ax.plot(aw[\"MONTH\"], aw[\"MLY-PRCP-NORMAL\"], marker = 'v', linestyle = '--')\n",
    "\n",
    "# Customize the x-axis label\n",
    "ax.set_xlabel(\"Time (months)\")\n",
    "\n",
    "# Customize the y-axis label\n",
    "ax.set_ylabel(\"Precipitation (inches)\")\n",
    "\n",
    "# Add the title\n",
    "ax.set_title(\"Weather patterns in Austin and Seattle\")\n",
    "\n",
    "# Display the figure\n",
    "plt.show()"
   ]
  },
  {
   "cell_type": "code",
   "execution_count": null,
   "metadata": {},
   "outputs": [],
   "source": [
    "# Create a Figure and an array of subplots with 2 rows and 2 columns\n",
    "fig, ax = plt.subplots(2, 2)\n",
    "\n",
    "# Addressing the top left Axes as index 0, 0, plot month and Seattle precipitation\n",
    "ax[0, 0].plot(seattle_weather[\"MONTH\"], seattle_weather[\"MLY-PRCP-NORMAL\"])\n",
    "\n",
    "# In the top right (index 0,1), plot month and Seattle temperatures\n",
    "ax[0, 1].plot(seattle_weather[\"MONTH\"], seattle_weather[\"MLY-TAVG-NORMAL\"])\n",
    "\n",
    "# In the bottom left (1, 0) plot month and Austin precipitations\n",
    "ax[1, 0].plot(austin_weather[\"MONTH\"], austin_weather[\"MLY-PRCP-NORMAL\"])\n",
    "\n",
    "# In the bottom right (1, 1) plot month and Austin temperatures\n",
    "ax[1, 1].plot(austin_weather[\"MONTH\"], austin_weather[\"MLY-TAVG-NORMAL\"])\n",
    "plt.show()"
   ]
  },
  {
   "cell_type": "code",
   "execution_count": null,
   "metadata": {},
   "outputs": [],
   "source": [
    "# Create a figure and an array of axes: 2 rows, 1 column with shared y axis\n",
    "fig, ax = plt.subplots(2, 1, sharey=True)\n",
    "\n",
    "# Plot Seattle precipitation data in the top axes\n",
    "ax[0].plot(seattle_weather[\"MONTH\"], seattle_weather[\"MLY-PRCP-NORMAL\"], color = 'b')\n",
    "ax[0].plot(seattle_weather[\"MONTH\"], seattle_weather[\"MLY-PRCP-25PCTL\"], color = 'b', linestyle = '--')\n",
    "ax[0].plot(seattle_weather[\"MONTH\"], seattle_weather[\"MLY-PRCP-75PCTL\"], color = 'b', linestyle = '--')\n",
    "\n",
    "# Plot Austin precipitation data in the bottom axes\n",
    "ax[1].plot(austin_weather[\"MONTH\"], austin_weather[\"MLY-PRCP-NORMAL\"], color = 'r')\n",
    "ax[1].plot(austin_weather[\"MONTH\"], austin_weather[\"MLY-PRCP-25PCTL\"], color = 'r', linestyle = '--')\n",
    "ax[1].plot(austin_weather[\"MONTH\"], austin_weather[\"MLY-PRCP-75PCTL\"], color = 'r', linestyle = '--')\n",
    "\n",
    "plt.show()"
   ]
  },
  {
   "cell_type": "markdown",
   "metadata": {},
   "source": [
    "---"
   ]
  },
  {
   "cell_type": "code",
   "execution_count": 3,
   "metadata": {},
   "outputs": [],
   "source": [
    "# Read the data from file using read_csv\n",
    "climate_change = pd.read_csv(\"D:/git_repositories/Datacamp-Introduction_to_Data_Visualization_with_Matplotlib/Datasets/climate_change.csv\",parse_dates = [\"date\"] , index_col = \"date\")"
   ]
  },
  {
   "cell_type": "code",
   "execution_count": 4,
   "metadata": {},
   "outputs": [
    {
     "data": {
      "text/html": [
       "<div>\n",
       "<style scoped>\n",
       "    .dataframe tbody tr th:only-of-type {\n",
       "        vertical-align: middle;\n",
       "    }\n",
       "\n",
       "    .dataframe tbody tr th {\n",
       "        vertical-align: top;\n",
       "    }\n",
       "\n",
       "    .dataframe thead th {\n",
       "        text-align: right;\n",
       "    }\n",
       "</style>\n",
       "<table border=\"1\" class=\"dataframe\">\n",
       "  <thead>\n",
       "    <tr style=\"text-align: right;\">\n",
       "      <th></th>\n",
       "      <th>co2</th>\n",
       "      <th>relative_temp</th>\n",
       "    </tr>\n",
       "    <tr>\n",
       "      <th>date</th>\n",
       "      <th></th>\n",
       "      <th></th>\n",
       "    </tr>\n",
       "  </thead>\n",
       "  <tbody>\n",
       "    <tr>\n",
       "      <th>1958-03-06</th>\n",
       "      <td>315.71</td>\n",
       "      <td>0.10</td>\n",
       "    </tr>\n",
       "    <tr>\n",
       "      <th>1958-04-06</th>\n",
       "      <td>317.45</td>\n",
       "      <td>0.01</td>\n",
       "    </tr>\n",
       "    <tr>\n",
       "      <th>1958-05-06</th>\n",
       "      <td>317.50</td>\n",
       "      <td>0.08</td>\n",
       "    </tr>\n",
       "    <tr>\n",
       "      <th>1958-06-06</th>\n",
       "      <td>NaN</td>\n",
       "      <td>-0.05</td>\n",
       "    </tr>\n",
       "    <tr>\n",
       "      <th>1958-07-06</th>\n",
       "      <td>315.86</td>\n",
       "      <td>0.06</td>\n",
       "    </tr>\n",
       "  </tbody>\n",
       "</table>\n",
       "</div>"
      ],
      "text/plain": [
       "               co2  relative_temp\n",
       "date                             \n",
       "1958-03-06  315.71           0.10\n",
       "1958-04-06  317.45           0.01\n",
       "1958-05-06  317.50           0.08\n",
       "1958-06-06     NaN          -0.05\n",
       "1958-07-06  315.86           0.06"
      ]
     },
     "execution_count": 4,
     "metadata": {},
     "output_type": "execute_result"
    }
   ],
   "source": [
    "climate_change.head()"
   ]
  },
  {
   "cell_type": "code",
   "execution_count": 6,
   "metadata": {},
   "outputs": [
    {
     "data": {
      "image/png": "[encoded data removed]",
      "text/plain": [
       "<Figure size 432x288 with 1 Axes>"
      ]
     },
     "metadata": {
      "needs_background": "light"
     },
     "output_type": "display_data"
    }
   ],
   "source": [
    "fig, ax = plt.subplots()\n",
    "\n",
    "# Add the time-series for \"relative_temp\" to the plot\n",
    "\n",
    "ax.plot(climate_change.index, climate_change[\"relative_temp\"])\n",
    "\n",
    "# Set the x-axis label\n",
    "ax.set_xlabel(\"Time\")\n",
    "\n",
    "# Set the y-axis label\n",
    "ax.set_ylabel(\"RElative temperature (Celsius)\")\n",
    "\n",
    "# Show the figure\n",
    "plt.show()"
   ]
  }
 ],
 "metadata": {
  "interpreter": {
   "hash": "689ce70f491755004657c62a40aa913e1005ad46291934f1e8a350e575c2ff73"
  },
  "kernelspec": {
   "display_name": "Python 3.10.4 64-bit",
   "language": "python",
   "name": "python3"
  },
  "language_info": {
   "codemirror_mode": {
    "name": "ipython",
    "version": 3
   },
   "file_extension": ".py",
   "mimetype": "text/x-python",
   "name": "python",
   "nbconvert_exporter": "python",
   "pygments_lexer": "ipython3",
   "version": "3.10.4"
  },
  "orig_nbformat": 4
 },
 "nbformat": 4,
 "nbformat_minor": 2
}
